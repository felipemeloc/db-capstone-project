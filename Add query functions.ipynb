{
 "cells": [
  {
   "cell_type": "code",
   "execution_count": 12,
   "metadata": {},
   "outputs": [],
   "source": [
    "import os\n",
    "from dotenv import load_dotenv\n",
    "import mysql.connector as connector"
   ]
  },
  {
   "cell_type": "code",
   "execution_count": 13,
   "id": "118f7efc",
   "metadata": {},
   "outputs": [],
   "source": [
    "load_dotenv()\n",
    "\n",
    "USER = os.getenv('USER')\n",
    "PASSWORD = os.getenv('PASSWORD')"
   ]
  },
  {
   "cell_type": "markdown",
   "id": "f1157499",
   "metadata": {},
   "source": [
    "### Task 1"
   ]
  },
  {
   "cell_type": "code",
   "execution_count": 14,
   "id": "42b82cdc",
   "metadata": {},
   "outputs": [],
   "source": [
    "connection = connector.connect(user = USER, password = PASSWORD)\n",
    "cursor = connection.cursor()\n",
    "cursor.execute('USE LittleLemonDM;')"
   ]
  },
  {
   "cell_type": "markdown",
   "id": "96e86e54",
   "metadata": {},
   "source": [
    "### Task 2"
   ]
  },
  {
   "cell_type": "code",
   "execution_count": 15,
   "id": "2d8ca246",
   "metadata": {},
   "outputs": [
    {
     "name": "stdout",
     "output_type": "stream",
     "text": [
      "('Bookings',)\n",
      "('CustomerDetails',)\n",
      "('Menu',)\n",
      "('MenuItems',)\n",
      "('Orders',)\n",
      "('OrdersDeliveryStatus',)\n",
      "('ordersview',)\n",
      "('StaffInformation',)\n"
     ]
    }
   ],
   "source": [
    "show_tables_query = \"SHOW tables;\" \n",
    "cursor.execute(show_tables_query)\n",
    "results = cursor.fetchall()\n",
    "for i in results:\n",
    "    print(i)"
   ]
  },
  {
   "cell_type": "markdown",
   "id": "36619213",
   "metadata": {},
   "source": [
    "### Task 3"
   ]
  },
  {
   "cell_type": "code",
   "execution_count": 16,
   "id": "261a2992",
   "metadata": {},
   "outputs": [
    {
     "name": "stdout",
     "output_type": "stream",
     "text": [
      "('Name', 'ContactDetails')\n",
      "('Allice', '00003')\n",
      "('Elie', '00001')\n"
     ]
    }
   ],
   "source": [
    "q = \"\"\"\n",
    "SELECT\n",
    "DISTINCT\n",
    "c.Name,\n",
    "c.ContactDetails\n",
    "FROM CustomerDetails c\n",
    "INNER JOIN Bookings b\n",
    "ON b.idCustomer = c.idCustomer\n",
    "INNER JOIN Orders o\n",
    "ON o.idBooking = b.idBooking\n",
    "WHERE o.TotalCost > 60;\n",
    "\"\"\"\n",
    "cursor.execute(q)\n",
    "results = cursor.fetchall()\n",
    "print(cursor.column_names)\n",
    "for i in results:\n",
    "    print(i)"
   ]
  },
  {
   "cell_type": "code",
   "execution_count": null,
   "id": "94deb54b",
   "metadata": {},
   "outputs": [],
   "source": []
  }
 ],
 "metadata": {
  "kernelspec": {
   "display_name": ".venv",
   "language": "python",
   "name": "python3"
  },
  "language_info": {
   "codemirror_mode": {
    "name": "ipython",
    "version": 3
   },
   "file_extension": ".py",
   "mimetype": "text/x-python",
   "name": "python",
   "nbconvert_exporter": "python",
   "pygments_lexer": "ipython3",
   "version": "3.10.6"
  }
 },
 "nbformat": 4,
 "nbformat_minor": 5
}
